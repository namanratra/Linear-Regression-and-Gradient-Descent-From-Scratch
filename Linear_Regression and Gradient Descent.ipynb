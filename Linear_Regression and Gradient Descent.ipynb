{
 "cells": [
  {
   "cell_type": "code",
   "execution_count": 2,
   "metadata": {},
   "outputs": [],
   "source": [
    "import numpy as np\n",
    "import matplotlib.pyplot as plt"
   ]
  },
  {
   "cell_type": "code",
   "execution_count": 3,
   "metadata": {},
   "outputs": [],
   "source": [
    "data = np.loadtxt('ps1_data1.csv')"
   ]
  },
  {
   "cell_type": "code",
   "execution_count": 4,
   "metadata": {},
   "outputs": [
    {
     "data": {
      "text/plain": [
       "array([[1.61646318, 7.53700018],\n",
       "       [1.48238301, 7.52199984],\n",
       "       [1.48063302, 7.50400019],\n",
       "       [1.56497955, 7.49399996],\n",
       "       [1.44357193, 7.46899986],\n",
       "       [1.50394464, 7.37699986],\n",
       "       [1.47920442, 7.31599999],\n",
       "       [1.40570605, 7.31400013],\n",
       "       [1.49438727, 7.28399992],\n",
       "       [1.48441493, 7.28399992],\n",
       "       [1.37538242, 7.21299982],\n",
       "       [1.10970628, 7.079     ],\n",
       "       [1.48709726, 7.00600004],\n",
       "       [1.54625928, 6.99300003],\n",
       "       [1.53570664, 6.97700024],\n",
       "       [1.48792338, 6.95100021],\n",
       "       [1.46378076, 6.89099979],\n",
       "       [1.7419436 , 6.86299992],\n",
       "       [1.44163394, 6.71400023],\n",
       "       [1.25278461, 6.65199995],\n",
       "       [1.62634337, 6.64799976],\n",
       "       [1.10735321, 6.63500023],\n",
       "       [1.35268235, 6.60900021],\n",
       "       [1.18529546, 6.59899998],\n",
       "       [1.15318382, 6.57800007],\n",
       "       [1.69227767, 6.57200003],\n",
       "       [1.34327984, 6.52699995],\n",
       "       [1.2175597 , 6.454     ],\n",
       "       [0.87200195, 6.454     ],\n",
       "       [1.23374844, 6.45200014],\n",
       "       [1.43092346, 6.44199991],\n",
       "       [1.12786877, 6.42399979],\n",
       "       [1.43362653, 6.42199993],\n",
       "       [1.38439786, 6.40299988],\n",
       "       [1.87076569, 6.375     ],\n",
       "       [1.07062232, 6.35699987],\n",
       "       [1.53062356, 6.34399986],\n",
       "       [1.3613559 , 6.16800022],\n",
       "       [1.63295245, 6.10500002],\n",
       "       [1.32539356, 6.09800005],\n",
       "       [1.48841226, 6.08699989],\n",
       "       [1.29121542, 6.08400011],\n",
       "       [0.7372992 , 6.0710001 ],\n",
       "       [1.0008204 , 6.0079999 ],\n",
       "       [0.9097845 , 6.00299978],\n",
       "       [1.29178786, 5.97300005],\n",
       "       [0.78644109, 5.9710002 ],\n",
       "       [1.39506662, 5.96400023],\n",
       "       [1.2817781 , 5.96299982],\n",
       "       [0.90797532, 5.95599985],\n",
       "       [1.41691518, 5.92000008],\n",
       "       [1.31458235, 5.90199995],\n",
       "       [1.09186447, 5.87200022],\n",
       "       [1.26074862, 5.8499999 ],\n",
       "       [1.40167844, 5.83799982],\n",
       "       [0.72887063, 5.83799982],\n",
       "       [1.21768391, 5.82499981],\n",
       "       [0.83375657, 5.82299995],\n",
       "       [1.13077676, 5.82200003],\n",
       "       [1.28455627, 5.81899977],\n",
       "       [1.34691131, 5.80999994],\n",
       "       [1.34120595, 5.7579999 ],\n",
       "       [1.03522527, 5.71500015],\n",
       "       [1.18939555, 5.62900019],\n",
       "       [1.35593808, 5.62099981],\n",
       "       [1.32087934, 5.61100006],\n",
       "       [1.15655756, 5.56899977],\n",
       "       [1.10180306, 5.5250001 ],\n",
       "       [1.19827437, 5.5       ],\n",
       "       [0.93253732, 5.49300003],\n",
       "       [1.55167484, 5.47200012],\n",
       "       [0.85769922, 5.42999983],\n",
       "       [1.06931758, 5.39499998],\n",
       "       [0.99101239, 5.33599997],\n",
       "       [1.28601193, 5.32399988],\n",
       "       [0.92557931, 5.31099987],\n",
       "       [1.22255623, 5.29300022],\n",
       "       [0.95148438, 5.2789998 ],\n",
       "       [1.08116579, 5.27299976],\n",
       "       [0.72688353, 5.26900005],\n",
       "       [0.99553859, 5.26200008],\n",
       "       [1.1284312 , 5.25      ],\n",
       "       [1.12112904, 5.23699999],\n",
       "       [0.87811458, 5.23500013],\n",
       "       [1.15360177, 5.23400021],\n",
       "       [1.07937384, 5.23000002],\n",
       "       [1.28948748, 5.22700024],\n",
       "       [1.07498753, 5.2249999 ],\n",
       "       [1.31517529, 5.19500017],\n",
       "       [0.98240942, 5.18200016],\n",
       "       [0.73057312, 5.18100023],\n",
       "       [1.06457794, 5.17500019],\n",
       "       [0.02264318, 5.15100002],\n",
       "       [0.78854757, 5.07399988],\n",
       "       [0.78375626, 5.07399988],\n",
       "       [0.52471364, 5.04099989],\n",
       "       [0.88541639, 5.01100016],\n",
       "       [0.59622008, 5.00400019],\n",
       "       [0.47982019, 4.96199989],\n",
       "       [1.02723587, 4.95499992],\n",
       "       [1.05469871, 4.829     ],\n",
       "       [1.00726581, 4.80499983],\n",
       "       [0.71624923, 4.7750001 ],\n",
       "       [0.98970181, 4.73500013],\n",
       "       [1.16145909, 4.71400023],\n",
       "       [0.36842093, 4.70900011],\n",
       "       [0.56430536, 4.69500017],\n",
       "       [1.15687311, 4.69199991],\n",
       "       [0.99619275, 4.64400005],\n",
       "       [0.58668297, 4.6079998 ],\n",
       "       [0.96443433, 4.57399988],\n",
       "       [0.56047946, 4.55299997],\n",
       "       [0.23430565, 4.55000019],\n",
       "       [0.36711055, 4.54500008],\n",
       "       [0.47930902, 4.53499985],\n",
       "       [0.63640678, 4.51399994],\n",
       "       [1.10271049, 4.49700022],\n",
       "       [1.19821024, 4.46500015],\n",
       "       [0.33923384, 4.46000004],\n",
       "       [1.00985014, 4.44000006],\n",
       "       [0.90059674, 4.37599993],\n",
       "       [0.79222125, 4.31500006],\n",
       "       [0.64845729, 4.29199982],\n",
       "       [0.80896425, 4.29099989],\n",
       "       [0.95061266, 4.28599977],\n",
       "       [0.09210235, 4.28000021],\n",
       "       [0.47618049, 4.19000006],\n",
       "       [0.60304892, 4.17999983],\n",
       "       [0.6017651 , 4.16800022],\n",
       "       [0.65951669, 4.13899994],\n",
       "       [0.66722482, 4.11999989],\n",
       "       [0.89465195, 4.0960002 ],\n",
       "       [0.38143071, 4.08099985],\n",
       "       [0.35022771, 4.03200007],\n",
       "       [0.16192533, 4.02799988],\n",
       "       [0.23344204, 3.97000003],\n",
       "       [0.43801299, 3.93600011],\n",
       "       [0.37584653, 3.875     ],\n",
       "       [0.52102125, 3.80800009],\n",
       "       [0.85842818, 3.79500008],\n",
       "       [0.40147722, 3.79399991],\n",
       "       [1.12209415, 3.76600003],\n",
       "       [0.43108541, 3.65700007],\n",
       "       [0.30580869, 3.64400005],\n",
       "       [0.36861026, 3.60299993],\n",
       "       [0.59168345, 3.59299993],\n",
       "       [0.39724863, 3.59100008],\n",
       "       [0.11904179, 3.53299999],\n",
       "       [0.24454993, 3.50699997],\n",
       "       [0.30544472, 3.49499989],\n",
       "       [0.36874589, 3.47099996],\n",
       "       [0.77715313, 3.46199989],\n",
       "       [0.51113588, 3.34899998],\n",
       "       [0.09162257, 2.90499997]])"
      ]
     },
     "execution_count": 4,
     "metadata": {},
     "output_type": "execute_result"
    }
   ],
   "source": [
    "data"
   ]
  },
  {
   "cell_type": "code",
   "execution_count": 5,
   "metadata": {},
   "outputs": [],
   "source": [
    "def setVariables(data_array) :\n",
    "    \"\"\"\n",
    "    The function set_variables() is called on one argument:\n",
    "    \n",
    "        data_array - an np.array \n",
    "        \n",
    "    and returns three global variables:\n",
    "        x - the first column of data_array\n",
    "        y - the second column of the data_array\n",
    "        m - the number of rows of the data_array na\n",
    "    Your code should run on any two-column data_array.\n",
    "    \"\"\"\n",
    "    global x\n",
    "    global y\n",
    "    global m\n",
    "    x = data_array[:, 0]\n",
    "    y = data_array[:, 1]\n",
    "    m = len(y)\n",
    "    return x, y, m"
   ]
  },
  {
   "cell_type": "code",
   "execution_count": 6,
   "metadata": {},
   "outputs": [
    {
     "data": {
      "text/plain": [
       "(array([1.61646318, 1.48238301, 1.48063302, 1.56497955, 1.44357193,\n",
       "        1.50394464, 1.47920442, 1.40570605, 1.49438727, 1.48441493,\n",
       "        1.37538242, 1.10970628, 1.48709726, 1.54625928, 1.53570664,\n",
       "        1.48792338, 1.46378076, 1.7419436 , 1.44163394, 1.25278461,\n",
       "        1.62634337, 1.10735321, 1.35268235, 1.18529546, 1.15318382,\n",
       "        1.69227767, 1.34327984, 1.2175597 , 0.87200195, 1.23374844,\n",
       "        1.43092346, 1.12786877, 1.43362653, 1.38439786, 1.87076569,\n",
       "        1.07062232, 1.53062356, 1.3613559 , 1.63295245, 1.32539356,\n",
       "        1.48841226, 1.29121542, 0.7372992 , 1.0008204 , 0.9097845 ,\n",
       "        1.29178786, 0.78644109, 1.39506662, 1.2817781 , 0.90797532,\n",
       "        1.41691518, 1.31458235, 1.09186447, 1.26074862, 1.40167844,\n",
       "        0.72887063, 1.21768391, 0.83375657, 1.13077676, 1.28455627,\n",
       "        1.34691131, 1.34120595, 1.03522527, 1.18939555, 1.35593808,\n",
       "        1.32087934, 1.15655756, 1.10180306, 1.19827437, 0.93253732,\n",
       "        1.55167484, 0.85769922, 1.06931758, 0.99101239, 1.28601193,\n",
       "        0.92557931, 1.22255623, 0.95148438, 1.08116579, 0.72688353,\n",
       "        0.99553859, 1.1284312 , 1.12112904, 0.87811458, 1.15360177,\n",
       "        1.07937384, 1.28948748, 1.07498753, 1.31517529, 0.98240942,\n",
       "        0.73057312, 1.06457794, 0.02264318, 0.78854757, 0.78375626,\n",
       "        0.52471364, 0.88541639, 0.59622008, 0.47982019, 1.02723587,\n",
       "        1.05469871, 1.00726581, 0.71624923, 0.98970181, 1.16145909,\n",
       "        0.36842093, 0.56430536, 1.15687311, 0.99619275, 0.58668297,\n",
       "        0.96443433, 0.56047946, 0.23430565, 0.36711055, 0.47930902,\n",
       "        0.63640678, 1.10271049, 1.19821024, 0.33923384, 1.00985014,\n",
       "        0.90059674, 0.79222125, 0.64845729, 0.80896425, 0.95061266,\n",
       "        0.09210235, 0.47618049, 0.60304892, 0.6017651 , 0.65951669,\n",
       "        0.66722482, 0.89465195, 0.38143071, 0.35022771, 0.16192533,\n",
       "        0.23344204, 0.43801299, 0.37584653, 0.52102125, 0.85842818,\n",
       "        0.40147722, 1.12209415, 0.43108541, 0.30580869, 0.36861026,\n",
       "        0.59168345, 0.39724863, 0.11904179, 0.24454993, 0.30544472,\n",
       "        0.36874589, 0.77715313, 0.51113588, 0.09162257]),\n",
       " array([7.53700018, 7.52199984, 7.50400019, 7.49399996, 7.46899986,\n",
       "        7.37699986, 7.31599999, 7.31400013, 7.28399992, 7.28399992,\n",
       "        7.21299982, 7.079     , 7.00600004, 6.99300003, 6.97700024,\n",
       "        6.95100021, 6.89099979, 6.86299992, 6.71400023, 6.65199995,\n",
       "        6.64799976, 6.63500023, 6.60900021, 6.59899998, 6.57800007,\n",
       "        6.57200003, 6.52699995, 6.454     , 6.454     , 6.45200014,\n",
       "        6.44199991, 6.42399979, 6.42199993, 6.40299988, 6.375     ,\n",
       "        6.35699987, 6.34399986, 6.16800022, 6.10500002, 6.09800005,\n",
       "        6.08699989, 6.08400011, 6.0710001 , 6.0079999 , 6.00299978,\n",
       "        5.97300005, 5.9710002 , 5.96400023, 5.96299982, 5.95599985,\n",
       "        5.92000008, 5.90199995, 5.87200022, 5.8499999 , 5.83799982,\n",
       "        5.83799982, 5.82499981, 5.82299995, 5.82200003, 5.81899977,\n",
       "        5.80999994, 5.7579999 , 5.71500015, 5.62900019, 5.62099981,\n",
       "        5.61100006, 5.56899977, 5.5250001 , 5.5       , 5.49300003,\n",
       "        5.47200012, 5.42999983, 5.39499998, 5.33599997, 5.32399988,\n",
       "        5.31099987, 5.29300022, 5.2789998 , 5.27299976, 5.26900005,\n",
       "        5.26200008, 5.25      , 5.23699999, 5.23500013, 5.23400021,\n",
       "        5.23000002, 5.22700024, 5.2249999 , 5.19500017, 5.18200016,\n",
       "        5.18100023, 5.17500019, 5.15100002, 5.07399988, 5.07399988,\n",
       "        5.04099989, 5.01100016, 5.00400019, 4.96199989, 4.95499992,\n",
       "        4.829     , 4.80499983, 4.7750001 , 4.73500013, 4.71400023,\n",
       "        4.70900011, 4.69500017, 4.69199991, 4.64400005, 4.6079998 ,\n",
       "        4.57399988, 4.55299997, 4.55000019, 4.54500008, 4.53499985,\n",
       "        4.51399994, 4.49700022, 4.46500015, 4.46000004, 4.44000006,\n",
       "        4.37599993, 4.31500006, 4.29199982, 4.29099989, 4.28599977,\n",
       "        4.28000021, 4.19000006, 4.17999983, 4.16800022, 4.13899994,\n",
       "        4.11999989, 4.0960002 , 4.08099985, 4.03200007, 4.02799988,\n",
       "        3.97000003, 3.93600011, 3.875     , 3.80800009, 3.79500008,\n",
       "        3.79399991, 3.76600003, 3.65700007, 3.64400005, 3.60299993,\n",
       "        3.59299993, 3.59100008, 3.53299999, 3.50699997, 3.49499989,\n",
       "        3.47099996, 3.46199989, 3.34899998, 2.90499997]),\n",
       " 154)"
      ]
     },
     "execution_count": 6,
     "metadata": {},
     "output_type": "execute_result"
    }
   ],
   "source": [
    "setVariables(data)"
   ]
  },
  {
   "cell_type": "code",
   "execution_count": 9,
   "metadata": {},
   "outputs": [
    {
     "data": {
      "text/plain": [
       "<matplotlib.legend.Legend at 0x27abcbadd48>"
      ]
     },
     "execution_count": 9,
     "metadata": {},
     "output_type": "execute_result"
    },
    {
     "data": {
      "image/png": "[encoded data removed]",
      "text/plain": [
       "<Figure size 432x288 with 1 Axes>"
      ]
     },
     "metadata": {
      "needs_background": "light"
     },
     "output_type": "display_data"
    }
   ],
   "source": [
    "plt.scatter(x,y, label=\"ps1_data1\")\n",
    "plt.title('2017 World Happiness by Country')\n",
    "plt.xlabel(r'Per Capita GPD')\n",
    "plt.ylabel(r'Happiness Score')\n",
    "plt.legend()"
   ]
  },
  {
   "cell_type": "code",
   "execution_count": 10,
   "metadata": {},
   "outputs": [],
   "source": [
    "def initialize(data_array, init_theta0, init_theta1):\n",
    "    \"\"\"Initialize data and parameters for ps1_data1.csv\n",
    "    \n",
    "            data_array  - an (m,2) np.array\n",
    "            init_theta0 - float\n",
    "            init_theta1 - float\n",
    "        \n",
    "    and returns two global variables:\n",
    "        X     an (m,2) array: a column of 1s and the first column of data_array, where m\n",
    "              is the number of rows in data_array\n",
    "        theta a (2,) vector initialized to init_theta0 and init_theta_1\n",
    "    \n",
    "    Your function should work for any (m,2) array, formatted as ps1_data1.csv is wrt \n",
    "    feature column and target column, and any floats init_theta_0, init_theta1\n",
    "    \"\"\"\n",
    "    X = np.ones((m, 2))\n",
    "    X[:,1] = data_array[:,0]\n",
    "    theta = np.array([init_theta0, init_theta1])\n",
    "    return theta, X"
   ]
  },
  {
   "cell_type": "code",
   "execution_count": 11,
   "metadata": {},
   "outputs": [],
   "source": [
    "# initialize the arrays with your function\n",
    "theta, X = initialize(data, 0.0,0.0)"
   ]
  },
  {
   "cell_type": "code",
   "execution_count": 12,
   "metadata": {},
   "outputs": [],
   "source": [
    "def costJ(X, y, theta):\n",
    "    \"\"\"Implement the squared-error cost function, compute_cost_J.\n",
    "    compute_cost_J(X, y, theta) computes the cost of using the\n",
    "    theta to parameterize a linear regression hypothesis to fit\n",
    "    the data in X and y.\n",
    "    \"\"\"\n",
    "    z = np.power(((X @ theta.T) - y), 2)\n",
    "    ans = np.sum(z) / (2 * len(X))\n",
    "    return ans"
   ]
  },
  {
   "cell_type": "code",
   "execution_count": 15,
   "metadata": {},
   "outputs": [],
   "source": [
    "def batchGradientDescent(X, y, theta, alpha, num_iterations):\n",
    "    \"\"\"gradient_descent performs batch gradient descent to minimize theta and return a history\n",
    "    of the gradient steps to plot.\n",
    "\n",
    "    gradient_descent updates theta by taking a number of gradient steps, fixed by the\n",
    "    parameter num_iterations, where the size of those steps is determined by the learning\n",
    "\n",
    "    rate, alpha.\n",
    "    \"\"\"\n",
    "    ## Initialize variables\n",
    "    # m is the number of training samples\n",
    "    m= len(y)\n",
    "\n",
    "    # J_history is the cost function history, intialized to a vector of zeros\n",
    "    # for each iteration step\n",
    "    J_history = np.zeros(num_iterations)\n",
    "    # initialize theta_new with a copy of theta.\n",
    "\n",
    "    theta_new = theta.copy()\n",
    "    for idx in range(num_iterations):\n",
    "        theta_new = theta_new - (1/m)*alpha*(X.T.dot((np.dot(X, theta_new)-y)))\n",
    "        J_history[idx] = costJ(X, y, theta_new)\n",
    "\n",
    "    return theta_new, J_history"
   ]
  },
  {
   "cell_type": "code",
   "execution_count": 16,
   "metadata": {},
   "outputs": [],
   "source": [
    "## gradient_descent adjustable parameters\n",
    "# learning rate\n",
    "alpha = 0.2\n",
    "#number of iterations\n",
    "iterations = 1100"
   ]
  },
  {
   "cell_type": "code",
   "execution_count": 17,
   "metadata": {},
   "outputs": [],
   "source": [
    "# run gradient descent\n",
    "theta_new, J_history = batchGradientDescent(X, y, theta, alpha, iterations)"
   ]
  },
  {
   "cell_type": "code",
   "execution_count": 18,
   "metadata": {},
   "outputs": [
    {
     "data": {
      "text/plain": [
       "array([3.22558776, 2.164952  ])"
      ]
     },
     "execution_count": 18,
     "metadata": {},
     "output_type": "execute_result"
    }
   ],
   "source": [
    "theta_new"
   ]
  },
  {
   "cell_type": "code",
   "execution_count": 19,
   "metadata": {},
   "outputs": [
    {
     "data": {
      "text/plain": [
       "Text(0, 0.5, '$J(\\\\theta)$')"
      ]
     },
     "execution_count": 19,
     "metadata": {},
     "output_type": "execute_result"
    },
    {
     "data": {
      "image/png": "[encoded data removed]",
      "text/plain": [
       "<Figure size 432x288 with 1 Axes>"
      ]
     },
     "metadata": {
      "needs_background": "light"
     },
     "output_type": "display_data"
    }
   ],
   "source": [
    "plt.plot(J_history)\n",
    "plt.xlabel(r'Iteration number' )\n",
    "plt.ylabel(r'$J(\\theta)$')"
   ]
  },
  {
   "cell_type": "code",
   "execution_count": 20,
   "metadata": {},
   "outputs": [
    {
     "data": {
      "text/plain": [
       "<matplotlib.legend.Legend at 0x27ad0012a08>"
      ]
     },
     "execution_count": 20,
     "metadata": {},
     "output_type": "execute_result"
    },
    {
     "data": {
      "image/png": "[encoded data removed]",
      "text/plain": [
       "<Figure size 432x288 with 1 Axes>"
      ]
     },
     "metadata": {
      "needs_background": "light"
     },
     "output_type": "display_data"
    }
   ],
   "source": [
    "alphas = [0.8]\n",
    "iters = 20\n",
    "for aa in alphas:\n",
    "    theta_new, J_history = batchGradientDescent(X, y, theta, aa, iters)\n",
    "    plt.plot(J_history, label='learning rate={0}'.format(aa) )\n",
    "\n",
    "plt.ylabel(r'$J(\\theta)$')\n",
    "plt.xlabel(r'Number of Iterations' )\n",
    "plt.legend(loc='best', frameon=False)"
   ]
  },
  {
   "cell_type": "code",
   "execution_count": 21,
   "metadata": {},
   "outputs": [
    {
     "data": {
      "text/plain": [
       "array([6.620176  , 2.98892945, 1.42244155, 0.74595476, 0.45318894,\n",
       "       0.32594304, 0.27016464, 0.24530494, 0.23387436, 0.22832249,\n",
       "       0.22538387, 0.22364107, 0.22247439, 0.22160901, 0.22091973,\n",
       "       0.2203467 , 0.21985897, 0.21943873, 0.21907436, 0.21875746])"
      ]
     },
     "execution_count": 21,
     "metadata": {},
     "output_type": "execute_result"
    }
   ],
   "source": [
    "J_history"
   ]
  },
  {
   "cell_type": "code",
   "execution_count": 23,
   "metadata": {},
   "outputs": [],
   "source": [
    "# import sklearn linear regression \n",
    "from sklearn.linear_model import LinearRegression"
   ]
  },
  {
   "cell_type": "code",
   "execution_count": 24,
   "metadata": {},
   "outputs": [
    {
     "data": {
      "text/plain": [
       "LinearRegression()"
      ]
     },
     "execution_count": 24,
     "metadata": {},
     "output_type": "execute_result"
    }
   ],
   "source": [
    "# instantiate model\n",
    "model = LinearRegression()\n",
    "# fit the model\n",
    "model.fit(X, y)"
   ]
  },
  {
   "cell_type": "code",
   "execution_count": 25,
   "metadata": {},
   "outputs": [
    {
     "name": "stdout",
     "output_type": "stream",
     "text": [
      "theta_0: 3.2255877706752263\n",
      "theta_1: 2.1649519939763175\n"
     ]
    }
   ],
   "source": [
    "#print theta0 and theta1\n",
    "print('theta_0:', model.intercept_)\n",
    "print('theta_1:', model.coef_[1])  # model.coef_ returns an array"
   ]
  },
  {
   "cell_type": "code",
   "execution_count": 26,
   "metadata": {},
   "outputs": [
    {
     "data": {
      "text/plain": [
       "[<matplotlib.lines.Line2D at 0x27ad26030c8>]"
      ]
     },
     "execution_count": 26,
     "metadata": {},
     "output_type": "execute_result"
    },
    {
     "data": {
      "image/png": "[encoded data removed]",
      "text/plain": [
       "<Figure size 432x288 with 1 Axes>"
      ]
     },
     "metadata": {
      "needs_background": "light"
     },
     "output_type": "display_data"
    }
   ],
   "source": [
    "plt.scatter(x, y)\n",
    "plt.title('2017 World Happiness by Country')\n",
    "plt.xlabel(r'Per Capita GPD')\n",
    "plt.ylabel(r'Happiness Score')\n",
    "plt.plot(x, model.predict(X),color='r')"
   ]
  },
  {
   "cell_type": "code",
   "execution_count": 27,
   "metadata": {},
   "outputs": [
    {
     "name": "stdout",
     "output_type": "stream",
     "text": [
      "coefficient of determination: 0.6487826791386584\n"
     ]
    }
   ],
   "source": [
    "r_sq = model.score(X, y)\n",
    "print('coefficient of determination:', r_sq)"
   ]
  },
  {
   "cell_type": "code",
   "execution_count": 28,
   "metadata": {},
   "outputs": [
    {
     "data": {
      "text/plain": [
       "<AxesSubplot:>"
      ]
     },
     "execution_count": 28,
     "metadata": {},
     "output_type": "execute_result"
    },
    {
     "data": {
      "image/png": "[encoded data removed]",
      "text/plain": [
       "<Figure size 432x288 with 1 Axes>"
      ]
     },
     "metadata": {},
     "output_type": "display_data"
    }
   ],
   "source": [
    "import seaborn as sns\n",
    "sns.set_style(\"ticks\")\n",
    "sns.regplot(x=x,y=y,line_kws = {\"color\": 'r'})"
   ]
  }
 ],
 "metadata": {
  "kernelspec": {
   "display_name": "Python 3",
   "language": "python",
   "name": "python3"
  },
  "language_info": {
   "codemirror_mode": {
    "name": "ipython",
    "version": 3
   },
   "file_extension": ".py",
   "mimetype": "text/x-python",
   "name": "python",
   "nbconvert_exporter": "python",
   "pygments_lexer": "ipython3",
   "version": "3.7.8"
  }
 },
 "nbformat": 4,
 "nbformat_minor": 4
}
